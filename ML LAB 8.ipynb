{
 "cells": [
  {
   "cell_type": "code",
   "execution_count": 2,
   "id": "551376fe",
   "metadata": {},
   "outputs": [
    {
     "data": {
      "text/html": [
       "<div>\n",
       "<style scoped>\n",
       "    .dataframe tbody tr th:only-of-type {\n",
       "        vertical-align: middle;\n",
       "    }\n",
       "\n",
       "    .dataframe tbody tr th {\n",
       "        vertical-align: top;\n",
       "    }\n",
       "\n",
       "    .dataframe thead th {\n",
       "        text-align: right;\n",
       "    }\n",
       "</style>\n",
       "<table border=\"1\" class=\"dataframe\">\n",
       "  <thead>\n",
       "    <tr style=\"text-align: right;\">\n",
       "      <th></th>\n",
       "      <th>age</th>\n",
       "      <th>income</th>\n",
       "      <th>student</th>\n",
       "      <th>credit_rating</th>\n",
       "      <th>buys_computer</th>\n",
       "    </tr>\n",
       "  </thead>\n",
       "  <tbody>\n",
       "    <tr>\n",
       "      <th>0</th>\n",
       "      <td>&lt;=30</td>\n",
       "      <td>high</td>\n",
       "      <td>no</td>\n",
       "      <td>fair</td>\n",
       "      <td>no</td>\n",
       "    </tr>\n",
       "    <tr>\n",
       "      <th>1</th>\n",
       "      <td>&lt;=30</td>\n",
       "      <td>high</td>\n",
       "      <td>no</td>\n",
       "      <td>excellent</td>\n",
       "      <td>no</td>\n",
       "    </tr>\n",
       "    <tr>\n",
       "      <th>2</th>\n",
       "      <td>31...40</td>\n",
       "      <td>high</td>\n",
       "      <td>no</td>\n",
       "      <td>fair</td>\n",
       "      <td>yes</td>\n",
       "    </tr>\n",
       "    <tr>\n",
       "      <th>3</th>\n",
       "      <td>&gt;40</td>\n",
       "      <td>medium</td>\n",
       "      <td>no</td>\n",
       "      <td>fair</td>\n",
       "      <td>yes</td>\n",
       "    </tr>\n",
       "    <tr>\n",
       "      <th>4</th>\n",
       "      <td>&gt;40</td>\n",
       "      <td>low</td>\n",
       "      <td>yes</td>\n",
       "      <td>fair</td>\n",
       "      <td>yes</td>\n",
       "    </tr>\n",
       "    <tr>\n",
       "      <th>5</th>\n",
       "      <td>&gt;40</td>\n",
       "      <td>low</td>\n",
       "      <td>yes</td>\n",
       "      <td>excellent</td>\n",
       "      <td>no</td>\n",
       "    </tr>\n",
       "    <tr>\n",
       "      <th>6</th>\n",
       "      <td>31...40</td>\n",
       "      <td>low</td>\n",
       "      <td>yes</td>\n",
       "      <td>excellent</td>\n",
       "      <td>yes</td>\n",
       "    </tr>\n",
       "    <tr>\n",
       "      <th>7</th>\n",
       "      <td>&lt;=30</td>\n",
       "      <td>medium</td>\n",
       "      <td>no</td>\n",
       "      <td>fair</td>\n",
       "      <td>no</td>\n",
       "    </tr>\n",
       "    <tr>\n",
       "      <th>8</th>\n",
       "      <td>&lt;=30</td>\n",
       "      <td>low</td>\n",
       "      <td>yes</td>\n",
       "      <td>fair</td>\n",
       "      <td>yes</td>\n",
       "    </tr>\n",
       "    <tr>\n",
       "      <th>9</th>\n",
       "      <td>&gt;40</td>\n",
       "      <td>medium</td>\n",
       "      <td>yes</td>\n",
       "      <td>fair</td>\n",
       "      <td>yes</td>\n",
       "    </tr>\n",
       "    <tr>\n",
       "      <th>10</th>\n",
       "      <td>&lt;=30</td>\n",
       "      <td>medium</td>\n",
       "      <td>yes</td>\n",
       "      <td>excellent</td>\n",
       "      <td>yes</td>\n",
       "    </tr>\n",
       "    <tr>\n",
       "      <th>11</th>\n",
       "      <td>31...40</td>\n",
       "      <td>medium</td>\n",
       "      <td>no</td>\n",
       "      <td>excellent</td>\n",
       "      <td>yes</td>\n",
       "    </tr>\n",
       "    <tr>\n",
       "      <th>12</th>\n",
       "      <td>31...40</td>\n",
       "      <td>high</td>\n",
       "      <td>yes</td>\n",
       "      <td>fair</td>\n",
       "      <td>yes</td>\n",
       "    </tr>\n",
       "    <tr>\n",
       "      <th>13</th>\n",
       "      <td>&gt;40</td>\n",
       "      <td>medium</td>\n",
       "      <td>no</td>\n",
       "      <td>excellent</td>\n",
       "      <td>no</td>\n",
       "    </tr>\n",
       "  </tbody>\n",
       "</table>\n",
       "</div>"
      ],
      "text/plain": [
       "        age  income student credit_rating buys_computer\n",
       "0      <=30    high      no          fair            no\n",
       "1      <=30    high      no     excellent            no\n",
       "2   31...40    high      no          fair           yes\n",
       "3       >40  medium      no          fair           yes\n",
       "4       >40     low     yes          fair           yes\n",
       "5       >40     low     yes     excellent            no\n",
       "6   31...40     low     yes     excellent           yes\n",
       "7      <=30  medium      no          fair            no\n",
       "8      <=30     low     yes          fair           yes\n",
       "9       >40  medium     yes          fair           yes\n",
       "10     <=30  medium     yes     excellent           yes\n",
       "11  31...40  medium      no     excellent           yes\n",
       "12  31...40    high     yes          fair           yes\n",
       "13      >40  medium      no     excellent            no"
      ]
     },
     "execution_count": 2,
     "metadata": {},
     "output_type": "execute_result"
    }
   ],
   "source": [
    "import pandas as pd\n",
    "\n",
    "data = {\n",
    "    'age': ['<=30', '<=30', '31...40', '>40', '>40', '>40', '31...40', '<=30', '<=30', '>40', '<=30', '31...40', '31...40', '>40'],\n",
    "    'income': ['high', 'high', 'high', 'medium', 'low', 'low', 'low', 'medium', 'low', 'medium', 'medium', 'medium', 'high', 'medium'],\n",
    "    'student': ['no', 'no', 'no', 'no', 'yes', 'yes', 'yes', 'no', 'yes', 'yes', 'yes', 'no', 'yes', 'no'],\n",
    "    'credit_rating': ['fair', 'excellent', 'fair', 'fair', 'fair', 'excellent', 'excellent', 'fair', 'fair', 'fair', 'excellent', 'excellent', 'fair', 'excellent'],\n",
    "    'buys_computer': ['no', 'no', 'yes', 'yes', 'yes', 'no', 'yes', 'no', 'yes', 'yes', 'yes', 'yes', 'yes', 'no']\n",
    "}\n",
    "\n",
    "df = pd.DataFrame(data)\n",
    "\n",
    "\n",
    "df\n"
   ]
  },
  {
   "cell_type": "code",
   "execution_count": 3,
   "id": "57bb481d",
   "metadata": {},
   "outputs": [
    {
     "name": "stdout",
     "output_type": "stream",
     "text": [
      "Prior probability for buys_computer = yes: 0.6429\n",
      "Prior probability for buys_computer = no: 0.3571\n"
     ]
    }
   ],
   "source": [
    "total_instances = len(df)\n",
    "prior_yes = df['buys_computer'].value_counts()['yes'] / total_instances\n",
    "prior_no = df['buys_computer'].value_counts()['no'] / total_instances\n",
    "\n",
    "print(f'Prior probability for buys_computer = yes: {prior_yes:.4f}')\n",
    "print(f'Prior probability for buys_computer = no: {prior_no:.4f}')"
   ]
  },
  {
   "cell_type": "code",
   "execution_count": 4,
   "id": "a8ff59c2",
   "metadata": {},
   "outputs": [
    {
     "name": "stdout",
     "output_type": "stream",
     "text": [
      "Prior probability for income = high: 0.2857\n",
      "Prior probability for income = medium: 0.4286\n",
      "Prior probability for income = low: 0.2857\n"
     ]
    }
   ],
   "source": [
    "total_instances = len(df)\n",
    "income_classes = df['income'].unique()\n",
    "\n",
    "for income_class in income_classes:\n",
    "    prior_income = df[df['income'] == income_class].shape[0] / total_instances\n",
    "    print(f'Prior probability for income = {income_class}: {prior_income:.4f}')"
   ]
  },
  {
   "cell_type": "code",
   "execution_count": 5,
   "id": "52b30f04",
   "metadata": {},
   "outputs": [
    {
     "name": "stdout",
     "output_type": "stream",
     "text": [
      "Prior probability for student = no: 0.5000\n",
      "Prior probability for student = yes: 0.5000\n"
     ]
    }
   ],
   "source": [
    "total_instances = len(df)\n",
    "student_classes = df['student'].unique()\n",
    "\n",
    "for student_class in student_classes:\n",
    "    prior_student = df[df['student'] == student_class].shape[0] / total_instances\n",
    "    print(f'Prior probability for student = {student_class}: {prior_student:.4f}')"
   ]
  },
  {
   "cell_type": "code",
   "execution_count": 6,
   "id": "cbb8529f",
   "metadata": {},
   "outputs": [
    {
     "name": "stdout",
     "output_type": "stream",
     "text": [
      "Prior probability for credit_rating = fair: 0.5714\n",
      "Prior probability for credit_rating = excellent: 0.4286\n"
     ]
    }
   ],
   "source": [
    "total_instances = len(df)\n",
    "credit_rating_classes = df['credit_rating'].unique()\n",
    "\n",
    "for credit_rating_class in credit_rating_classes:\n",
    "    prior_credit_rating = df[df['credit_rating'] == credit_rating_class].shape[0] / total_instances\n",
    "    print(f'Prior probability for credit_rating = {credit_rating_class}: {prior_credit_rating:.4f}')"
   ]
  },
  {
   "cell_type": "code",
   "execution_count": 7,
   "id": "1cab7a13",
   "metadata": {},
   "outputs": [
    {
     "name": "stdout",
     "output_type": "stream",
     "text": [
      "Class conditional density for 'age' = <=30:\n",
      "no     0.6\n",
      "yes    0.4\n",
      "Name: buys_computer, dtype: float64\n",
      "\n",
      "Class conditional density for 'age' = 31...40:\n",
      "yes    1.0\n",
      "Name: buys_computer, dtype: float64\n",
      "\n",
      "Class conditional density for 'age' = >40:\n",
      "yes    0.6\n",
      "no     0.4\n",
      "Name: buys_computer, dtype: float64\n",
      "\n",
      "Class conditional density for 'income' = high:\n",
      "no     0.5\n",
      "yes    0.5\n",
      "Name: buys_computer, dtype: float64\n",
      "\n",
      "Class conditional density for 'income' = medium:\n",
      "yes    0.666667\n",
      "no     0.333333\n",
      "Name: buys_computer, dtype: float64\n",
      "\n",
      "Class conditional density for 'income' = low:\n",
      "yes    0.75\n",
      "no     0.25\n",
      "Name: buys_computer, dtype: float64\n",
      "\n"
     ]
    }
   ],
   "source": [
    "age_classes = df['age'].unique()\n",
    "\n",
    "for age_class in age_classes:\n",
    "    conditional_data = df[df['age'] == age_class]['buys_computer']\n",
    "    class_conditional_density = conditional_data.value_counts(normalize=True)\n",
    "    print(f\"Class conditional density for 'age' = {age_class}:\\n{class_conditional_density}\")\n",
    "    print()\n",
    "\n",
    "\n",
    "income_classes = df['income'].unique()\n",
    "\n",
    "for income_class in income_classes:\n",
    "    conditional_data = df[df['income'] == income_class]['buys_computer']\n",
    "    class_conditional_density = conditional_data.value_counts(normalize=True)\n",
    "    print(f\"Class conditional density for 'income' = {income_class}:\\n{class_conditional_density}\")\n",
    "    print()"
   ]
  },
  {
   "cell_type": "code",
   "execution_count": 8,
   "id": "6ce4edfd",
   "metadata": {},
   "outputs": [
    {
     "name": "stdout",
     "output_type": "stream",
     "text": [
      "Chi-square value: 12.95\n",
      "p-value: 0.6764100579553458\n",
      "Degrees of freedom: 16\n",
      "Expected frequencies table:\n",
      "[[0.28571429 0.57142857 0.28571429 0.57142857 0.57142857 0.57142857\n",
      "  0.57142857 0.28571429 0.28571429]\n",
      " [0.35714286 0.71428571 0.35714286 0.71428571 0.71428571 0.71428571\n",
      "  0.71428571 0.35714286 0.35714286]\n",
      " [0.35714286 0.71428571 0.35714286 0.71428571 0.71428571 0.71428571\n",
      "  0.71428571 0.35714286 0.35714286]]\n"
     ]
    }
   ],
   "source": [
    "from scipy.stats import chi2_contingency\n",
    "\n",
    "contingency_table = pd.crosstab(index=df['age'], columns=[df['income'], df['student'], df['credit_rating']])\n",
    "\n",
    "# Performing the Chi-square test\n",
    "chi2, p, dof, expected = chi2_contingency(contingency_table)\n",
    "\n",
    "# Output the results\n",
    "print(\"Chi-square value:\", chi2)\n",
    "print(\"p-value:\", p)\n",
    "print(\"Degrees of freedom:\", dof)\n",
    "print(\"Expected frequencies table:\")\n",
    "print(expected)\n"
   ]
  },
  {
   "cell_type": "code",
   "execution_count": 10,
   "id": "739e3d39",
   "metadata": {},
   "outputs": [
    {
     "name": "stdout",
     "output_type": "stream",
     "text": [
      "Accuracy: 0.6666666666666666\n",
      "Confusion Matrix:\n",
      "[[0 1]\n",
      " [0 2]]\n",
      "Classification Report:\n",
      "              precision    recall  f1-score   support\n",
      "\n",
      "           0       0.00      0.00      0.00         1\n",
      "           1       0.67      1.00      0.80         2\n",
      "\n",
      "    accuracy                           0.67         3\n",
      "   macro avg       0.33      0.50      0.40         3\n",
      "weighted avg       0.44      0.67      0.53         3\n",
      "\n"
     ]
    },
    {
     "name": "stderr",
     "output_type": "stream",
     "text": [
      "C:\\ProgramData\\anaconda3\\Lib\\site-packages\\sklearn\\metrics\\_classification.py:1469: UndefinedMetricWarning: Precision and F-score are ill-defined and being set to 0.0 in labels with no predicted samples. Use `zero_division` parameter to control this behavior.\n",
      "  _warn_prf(average, modifier, msg_start, len(result))\n",
      "C:\\ProgramData\\anaconda3\\Lib\\site-packages\\sklearn\\metrics\\_classification.py:1469: UndefinedMetricWarning: Precision and F-score are ill-defined and being set to 0.0 in labels with no predicted samples. Use `zero_division` parameter to control this behavior.\n",
      "  _warn_prf(average, modifier, msg_start, len(result))\n",
      "C:\\ProgramData\\anaconda3\\Lib\\site-packages\\sklearn\\metrics\\_classification.py:1469: UndefinedMetricWarning: Precision and F-score are ill-defined and being set to 0.0 in labels with no predicted samples. Use `zero_division` parameter to control this behavior.\n",
      "  _warn_prf(average, modifier, msg_start, len(result))\n"
     ]
    }
   ],
   "source": [
    "from sklearn.model_selection import train_test_split\n",
    "from sklearn.preprocessing import LabelEncoder\n",
    "from sklearn.naive_bayes import GaussianNB\n",
    "from sklearn.metrics import accuracy_score, classification_report, confusion_matrix\n",
    "\n",
    "le = LabelEncoder()\n",
    "df['age'] = le.fit_transform(df['age'])\n",
    "df['income'] = le.fit_transform(df['income'])\n",
    "df['student'] = le.fit_transform(df['student'])\n",
    "df['credit_rating'] = le.fit_transform(df['credit_rating'])\n",
    "df['buys_computer'] = le.fit_transform(df['buys_computer'])\n",
    "\n",
    "# Features (X) and target variable (y)\n",
    "X = df.drop('buys_computer', axis=1)\n",
    "y = df['buys_computer']\n",
    "\n",
    "# Splitting the data into training and testing sets\n",
    "Tr_X, Ts_X, Tr_y, Ts_y = train_test_split(X, y, test_size=0.2, random_state=42)\n",
    "\n",
    "# Building the Naïve Bayes classifier\n",
    "model = GaussianNB()\n",
    "model.fit(Tr_X, Tr_y)\n",
    "\n",
    "# Making predictions on the test set\n",
    "predictions = model.predict(Ts_X)\n",
    "\n",
    "# Evaluating the model\n",
    "accuracy = accuracy_score(Ts_y, predictions)\n",
    "conf_matrix = confusion_matrix(Ts_y, predictions)\n",
    "class_report = classification_report(Ts_y, predictions)\n",
    "\n",
    "# Output the results\n",
    "print(\"Accuracy:\", accuracy)\n",
    "print(\"Confusion Matrix:\")\n",
    "print(conf_matrix)\n",
    "print(\"Classification Report:\")\n",
    "print(class_report)\n"
   ]
  },
  {
   "cell_type": "code",
   "execution_count": null,
   "id": "fe10653d",
   "metadata": {},
   "outputs": [],
   "source": []
  }
 ],
 "metadata": {
  "kernelspec": {
   "display_name": "Python 3 (ipykernel)",
   "language": "python",
   "name": "python3"
  },
  "language_info": {
   "codemirror_mode": {
    "name": "ipython",
    "version": 3
   },
   "file_extension": ".py",
   "mimetype": "text/x-python",
   "name": "python",
   "nbconvert_exporter": "python",
   "pygments_lexer": "ipython3",
   "version": "3.11.4"
  }
 },
 "nbformat": 4,
 "nbformat_minor": 5
}
